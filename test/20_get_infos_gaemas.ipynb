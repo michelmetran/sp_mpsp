{
 "cells": [
  {
   "cell_type": "markdown",
   "id": "f88c5a35",
   "metadata": {},
   "source": [
    "<br>\n",
    "\n",
    "# GAEMAs"
   ]
  },
  {
   "cell_type": "code",
   "execution_count": null,
   "id": "ca61e8b0",
   "metadata": {},
   "outputs": [],
   "source": [
    "import os\n",
    "import pandas as pd"
   ]
  },
  {
   "cell_type": "code",
   "execution_count": null,
   "id": "f68fde67",
   "metadata": {},
   "outputs": [],
   "source": [
    "from paths import *\n",
    "from functions import *"
   ]
  },
  {
   "cell_type": "code",
   "execution_count": null,
   "id": "e56f414c",
   "metadata": {},
   "outputs": [],
   "source": [
    "from open_geodata import geo"
   ]
  },
  {
   "cell_type": "markdown",
   "id": "2fa5bb85",
   "metadata": {},
   "source": [
    "<br>\n",
    "\n",
    "# Relatório"
   ]
  },
  {
   "cell_type": "markdown",
   "id": "c0e1ef29",
   "metadata": {},
   "source": [
    "<br>\n",
    "\n",
    "## Nomes dos Municípios\n",
    "\n",
    "Lê o arquivo csv com o nome dos municípios"
   ]
  },
  {
   "cell_type": "code",
   "execution_count": null,
   "id": "dae6b922",
   "metadata": {},
   "outputs": [],
   "source": [
    "df_mun = geo.load_dataset('tab_municipio_nome')\n",
    "\n",
    "df_mun.info()\n",
    "df_mun.head()"
   ]
  },
  {
   "cell_type": "markdown",
   "id": "24c5106b",
   "metadata": {},
   "source": [
    "<br>\n",
    "\n",
    "## IDs vinculando Municípios com GAEMAs"
   ]
  },
  {
   "cell_type": "code",
   "execution_count": null,
   "id": "1a34963b",
   "metadata": {},
   "outputs": [],
   "source": [
    "# Dataframe\n",
    "df = pd.read_csv(\n",
    "    os.path.join(input_path_tab, 'tab_ids_municipio.csv'),\n",
    "    usecols=['id_municipio', 'id_gaema'],\n",
    ")\n",
    "\n",
    "# Results\n",
    "df.info()\n",
    "df.head()"
   ]
  },
  {
   "cell_type": "code",
   "execution_count": null,
   "id": "4dcbc73f",
   "metadata": {},
   "outputs": [],
   "source": [
    "# Merge Municípios\n",
    "df = pd.merge(\n",
    "    df_mun,\n",
    "    df,    \n",
    "    how='left',\n",
    "    left_on='id_municipio',\n",
    "    right_on='id_municipio',\n",
    ")\n",
    "\n",
    "# Results\n",
    "df.info()\n",
    "df.head()"
   ]
  },
  {
   "cell_type": "markdown",
   "id": "7bb3bc99",
   "metadata": {},
   "source": [
    "<br>\n",
    "\n",
    "## Município GAEMAs"
   ]
  },
  {
   "cell_type": "code",
   "execution_count": null,
   "id": "fadffaae",
   "metadata": {},
   "outputs": [],
   "source": [
    "# Dataframe GAEMAs\n",
    "df_gaema = pd.read_csv(os.path.join(input_path_tab, 'tab_gaema.csv'))\n",
    "df_gaema = df_gaema.add_prefix('gaema_')\n",
    "\n",
    "# Results\n",
    "df_gaema.info()\n",
    "df_gaema.head()"
   ]
  },
  {
   "cell_type": "code",
   "execution_count": null,
   "id": "03118c28",
   "metadata": {},
   "outputs": [],
   "source": [
    "# Merge GAEMAs\n",
    "df = pd.merge(\n",
    "    df,\n",
    "    df_gaema,\n",
    "    how='left',\n",
    "    left_on='id_gaema',\n",
    "    right_on='gaema_id',\n",
    ")\n",
    "\n",
    "# Drop\n",
    "df.dropna(subset=['gaema_id'], inplace=True)\n",
    "df.drop(['gaema_id'], axis=1, inplace=True, errors='ignore')\n",
    "\n",
    "# Save\n",
    "df.to_csv(\n",
    "    os.path.join(output_path_tabs, 'tab_municipio_gaema.csv'),\n",
    "    index=False,\n",
    ")\n",
    "\n",
    "# Results\n",
    "df.info()\n",
    "df.head()"
   ]
  },
  {
   "cell_type": "code",
   "execution_count": null,
   "id": "752b7145-168e-41d8-bc5f-570a9a51c3d1",
   "metadata": {},
   "outputs": [],
   "source": []
  }
 ],
 "metadata": {
  "interpreter": {
   "hash": "2bdda54bf0f28693adab761d90c570fb0a7faa3609b365313c0b5d078440c060"
  },
  "kernelspec": {
   "display_name": "Python 3 (ipykernel)",
   "language": "python",
   "name": "python3"
  },
  "language_info": {
   "codemirror_mode": {
    "name": "ipython",
    "version": 3
   },
   "file_extension": ".py",
   "mimetype": "text/x-python",
   "name": "python",
   "nbconvert_exporter": "python",
   "pygments_lexer": "ipython3",
   "version": "3.9.12"
  },
  "toc-autonumbering": true
 },
 "nbformat": 4,
 "nbformat_minor": 5
}
