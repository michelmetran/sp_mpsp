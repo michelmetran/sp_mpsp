{
 "cells": [
  {
   "cell_type": "markdown",
   "id": "f88c5a35",
   "metadata": {},
   "source": [
    "<br>\n",
    "\n",
    "# Redes Protetivas"
   ]
  },
  {
   "cell_type": "code",
   "execution_count": null,
   "id": "ca61e8b0",
   "metadata": {},
   "outputs": [],
   "source": [
    "import os\n",
    "# import re\n",
    "# import time\n",
    "# import random\n",
    "# import tabula\n",
    "# import requests\n",
    "# import numpy as np\n",
    "import pandas as pd\n",
    "# import geopandas as gpd\n",
    "# from bs4 import BeautifulSoup"
   ]
  },
  {
   "cell_type": "code",
   "execution_count": null,
   "id": "3ea51b30-0c59-4b51-ae59-090efb980b18",
   "metadata": {},
   "outputs": [],
   "source": [
    "from paths import *\n",
    "from functions import *"
   ]
  },
  {
   "cell_type": "markdown",
   "id": "2fa5bb85",
   "metadata": {},
   "source": [
    "<br>\n",
    "\n",
    "# Relatório"
   ]
  },
  {
   "cell_type": "markdown",
   "id": "c0e1ef29",
   "metadata": {},
   "source": [
    "<br>\n",
    "\n",
    "## Nomes dos Municípios\n",
    "\n",
    "Lê o arquivo csv com o nome dos municípios"
   ]
  },
  {
   "cell_type": "code",
   "execution_count": null,
   "id": "dae6b922",
   "metadata": {},
   "outputs": [],
   "source": [
    "df_mun.info()\n",
    "df_mun.head()"
   ]
  },
  {
   "cell_type": "markdown",
   "id": "24c5106b",
   "metadata": {},
   "source": [
    "<br>\n",
    "\n",
    "## IDs vinculando Municípios com Redes Protetivas"
   ]
  },
  {
   "cell_type": "code",
   "execution_count": null,
   "id": "d3590601-5ec1-4a6a-9447-ba6160ef3d42",
   "metadata": {},
   "outputs": [],
   "source": [
    "# Dataframe\n",
    "df = pd.read_csv(\n",
    "    os.path.join(input_path_tab, 'tab_ids_municipio.csv'),\n",
    "    usecols=['id_municipio', 'id_rp'],\n",
    ")\n",
    "# Results\n",
    "df.info()\n",
    "df.head()"
   ]
  },
  {
   "cell_type": "code",
   "execution_count": null,
   "id": "4dcbc73f",
   "metadata": {},
   "outputs": [],
   "source": [
    "# Merge Municípios\n",
    "df = pd.merge(\n",
    "    df_mun,\n",
    "    df,    \n",
    "    how='left',\n",
    "    left_on='id_municipio',\n",
    "    right_on='id_municipio',\n",
    ")\n",
    "\n",
    "# Results\n",
    "df.info()\n",
    "df.head()"
   ]
  },
  {
   "cell_type": "markdown",
   "id": "97b58b3a",
   "metadata": {},
   "source": [
    "<br>\n",
    "\n",
    "## Município Rede Protetiva"
   ]
  },
  {
   "cell_type": "code",
   "execution_count": null,
   "id": "0af4120f-300c-4c43-be2a-34ce4e8d60f1",
   "metadata": {},
   "outputs": [],
   "source": [
    "# Dataframe Rede Protetiva\n",
    "df_rp = pd.read_csv(os.path.join(input_path_tab, 'tab_redeprotetiva.csv'))\n",
    "df_rp = df_rp.add_prefix('rp_')\n",
    "\n",
    "# Results\n",
    "df_rp.info()\n",
    "df_rp.head()"
   ]
  },
  {
   "cell_type": "code",
   "execution_count": null,
   "id": "216166f3",
   "metadata": {},
   "outputs": [],
   "source": [
    "# Merge Rede Protetiva\n",
    "df = pd.merge(\n",
    "    df,\n",
    "    df_rp,\n",
    "    how='left',\n",
    "    left_on='id_rp',\n",
    "    right_on='rp_id',\n",
    ")\n",
    "\n",
    "# Drop\n",
    "df.dropna(subset=['rp_id'], inplace=True)\n",
    "df.drop(['rp_id'], axis=1, inplace=True, errors='ignore')\n",
    "\n",
    "# Save\n",
    "df.to_csv(\n",
    "    os.path.join(output_path_tabs, 'tab_municipio_rp.csv'),\n",
    "    index=False,\n",
    ")\n",
    "\n",
    "# Results\n",
    "df.info()\n",
    "df.head()"
   ]
  }
 ],
 "metadata": {
  "interpreter": {
   "hash": "2bdda54bf0f28693adab761d90c570fb0a7faa3609b365313c0b5d078440c060"
  },
  "kernelspec": {
   "display_name": "Python 3.9.12 ('pablocarreira-py39')",
   "language": "python",
   "name": "python3"
  },
  "language_info": {
   "codemirror_mode": {
    "name": "ipython",
    "version": 3
   },
   "file_extension": ".py",
   "mimetype": "text/x-python",
   "name": "python",
   "nbconvert_exporter": "python",
   "pygments_lexer": "ipython3",
   "version": "3.9.12"
  },
  "toc-autonumbering": true
 },
 "nbformat": 4,
 "nbformat_minor": 5
}
