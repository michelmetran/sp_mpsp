{
 "cells": [
  {
   "cell_type": "markdown",
   "id": "df116fac-cf7a-49ab-bd38-f464e0bf7445",
   "metadata": {},
   "source": [
    "# Macroregiões\n",
    "\n",
    "Conforme pode ser observado pela notíca sobre o concurso para os técnicos, as Macroregiões estão correlacionadas com as Áreas Regionais, da seguinte forma:\n",
    "\n",
    "- **Macrorregião I**: Áreas Regionais da Capital, da Grande São Paulo I, II e III, de Santos e do Vale do Ribeira\n",
    "- **Macrorregião II**: Áreas Regionais de Campinas e de Taubaté\n",
    "- **Macrorregião III**: Áreas Regionais de Piracicaba e de Sorocaba\n",
    "- **Macrorregião IV**: Áreas Regionais de Araçatuba, de Bauru e de Presidente Prudente\n",
    "- **Macrorregião V**: Áreas Regionais de Franca, de Ribeirão Preto e de São José do Rio Preto\n",
    "\n",
    "<br>\n",
    "\n",
    "**Referência**\n",
    "\n",
    "- http://www.mpsp.mp.br/portal/page/portal/noticias/noticia?id_noticia=19968257&id_grupo=118"
   ]
  },
  {
   "cell_type": "code",
   "execution_count": null,
   "id": "0db26075-1d0c-4d5a-9bd5-0a4b532ed174",
   "metadata": {},
   "outputs": [],
   "source": [
    "import os\n",
    "import re\n",
    "import time\n",
    "import random\n",
    "import tabula\n",
    "import requests\n",
    "import numpy as np\n",
    "import pandas as pd\n",
    "import geopandas as gpd\n",
    "from bs4 import BeautifulSoup"
   ]
  },
  {
   "cell_type": "markdown",
   "id": "ad4d81a3-df4b-4778-a80a-5647a88fd4e8",
   "metadata": {},
   "source": [
    "<br>\n",
    "\n",
    "# Relatório"
   ]
  },
  {
   "cell_type": "markdown",
   "id": "da26c8de-604c-48a4-93ae-59fd517ed214",
   "metadata": {},
   "source": [
    "<br>\n",
    "\n",
    "## Nomes dos Municípios\n",
    "\n",
    "Lê o arquivo csv com o nome dos municípios"
   ]
  },
  {
   "cell_type": "code",
   "execution_count": null,
   "id": "456ca440-0e70-4c8e-83e3-e650380d269f",
   "metadata": {},
   "outputs": [],
   "source": [
    "# Dataframe\n",
    "df_mun = pd.read_csv(\n",
    "    'https://raw.githubusercontent.com/michelmetran/sp/main/data/tabs/tab_municipio_nome.csv',\n",
    "    usecols=['id_municipio', 'municipio_nome']\n",
    ")\n",
    "\n",
    "# Results\n",
    "display(df_mun.head(3))"
   ]
  },
  {
   "cell_type": "markdown",
   "id": "119b51ee-d815-4e77-aa47-5b9a30a1743d",
   "metadata": {},
   "source": [
    "<br>\n",
    "\n",
    "## IDs vinculando Municípios com Áreas Regionais"
   ]
  },
  {
   "cell_type": "code",
   "execution_count": null,
   "id": "78ede5b1-861c-4be1-8f10-80e048f9bfb9",
   "metadata": {},
   "outputs": [],
   "source": [
    "# Dataframe\n",
    "df = pd.read_csv(\n",
    "    os.path.join('data', 'tabs', 'input', 'tab_ids_municipio.csv'),\n",
    "    usecols=['id_municipio', 'id_ar'],\n",
    ")\n",
    "display(df.head(3))\n",
    "\n",
    "# Merge Municípios\n",
    "df = pd.merge(\n",
    "    df_mun,\n",
    "    df,    \n",
    "    how='left',\n",
    "    left_on='id_municipio',\n",
    "    right_on='id_municipio',\n",
    ")\n",
    "\n",
    "# Results\n",
    "display(df.head(3))"
   ]
  },
  {
   "cell_type": "markdown",
   "id": "141f9995-f73a-4463-959b-b3a47362c35e",
   "metadata": {},
   "source": [
    "<br>\n",
    "\n",
    "## IDs vinculando Áreas Regionais com Macroregiões"
   ]
  },
  {
   "cell_type": "code",
   "execution_count": null,
   "id": "dd63c388-903d-4b10-b15a-6560fe38fab7",
   "metadata": {},
   "outputs": [],
   "source": [
    "# Dataframe\n",
    "df_macro = pd.read_csv(\n",
    "    os.path.join('data', 'tabs', 'input', 'tab_ids_macroregioes.csv'),\n",
    ")\n",
    "display(df_macro.head(3))\n",
    "\n",
    "# Merge Municípios\n",
    "df = pd.merge(\n",
    "    df,\n",
    "    df_macro,\n",
    "    how='left',\n",
    "    left_on='id_ar',\n",
    "    right_on='id_ar',\n",
    ")\n",
    "\n",
    "# Results\n",
    "display(df.head(3))"
   ]
  },
  {
   "cell_type": "markdown",
   "id": "5e87f58a-2880-44c1-a9cf-26cc3210106f",
   "metadata": {},
   "source": [
    "<br>\n",
    "\n",
    "## Município Macroregiões"
   ]
  },
  {
   "cell_type": "code",
   "execution_count": null,
   "id": "48ffe480-c044-4d79-a847-1c99f9aa8461",
   "metadata": {},
   "outputs": [],
   "source": [
    "# Dataframe GAEMAs\n",
    "df_macro = pd.read_csv(os.path.join('data', 'tabs', 'input', 'tab_macroregioes.csv'))\n",
    "df_macro = df_macro.add_prefix('macroregiao_')\n",
    "display(df_macro.head(3))\n",
    "\n",
    "# Merge GAEMAs\n",
    "df = pd.merge(\n",
    "    df,\n",
    "    df_macro,\n",
    "    how='left',\n",
    "    left_on='id_macroregiao',\n",
    "    right_on='macroregiao_id',\n",
    ")\n",
    "\n",
    "# Drop\n",
    "df.drop(['id_ar', 'macroregiao_id'], axis=1, inplace=True, errors='ignore')\n",
    "\n",
    "# Save\n",
    "df.to_csv(\n",
    "    os.path.join('data', 'tabs', 'output', 'tab_municipio_macroregioes.csv'),\n",
    "    index=False,\n",
    ")\n",
    "\n",
    "# Results\n",
    "display(df.head(3))"
   ]
  },
  {
   "cell_type": "code",
   "execution_count": null,
   "id": "6e957f6f-7abb-4386-a3e2-e56fd689ff0a",
   "metadata": {},
   "outputs": [],
   "source": []
  }
 ],
 "metadata": {
  "kernelspec": {
   "display_name": "Python [conda env:pablocarreira-py38] *",
   "language": "python",
   "name": "conda-env-pablocarreira-py38-py"
  },
  "language_info": {
   "codemirror_mode": {
    "name": "ipython",
    "version": 3
   },
   "file_extension": ".py",
   "mimetype": "text/x-python",
   "name": "python",
   "nbconvert_exporter": "python",
   "pygments_lexer": "ipython3",
   "version": "3.8.10"
  }
 },
 "nbformat": 4,
 "nbformat_minor": 5
}
