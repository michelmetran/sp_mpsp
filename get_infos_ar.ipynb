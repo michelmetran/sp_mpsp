{
 "cells": [
  {
   "cell_type": "markdown",
   "id": "48dbaf7b",
   "metadata": {},
   "source": [
    "<br>\n",
    "\n",
    "# Áreas Regionais"
   ]
  },
  {
   "cell_type": "code",
   "execution_count": null,
   "id": "e9dff2d7",
   "metadata": {},
   "outputs": [],
   "source": [
    "import os\n",
    "import re\n",
    "import time\n",
    "import random\n",
    "import tabula\n",
    "import requests\n",
    "import numpy as np\n",
    "import pandas as pd\n",
    "import geopandas as gpd\n",
    "from bs4 import BeautifulSoup"
   ]
  },
  {
   "cell_type": "markdown",
   "id": "20d11936-3a66-4e2a-8ee9-1cf663ec417c",
   "metadata": {},
   "source": [
    "<br>\n",
    "\n",
    "# Relatório"
   ]
  },
  {
   "cell_type": "markdown",
   "id": "366392ca-9be6-4409-894c-ba566a6e19ee",
   "metadata": {},
   "source": [
    "<br>\n",
    "\n",
    "## Nomes dos Municípios\n",
    "\n",
    "Lê o arquivo csv com o nome dos municípios"
   ]
  },
  {
   "cell_type": "code",
   "execution_count": null,
   "id": "17178a04-7b19-4967-b8e0-99d1513c1fe0",
   "metadata": {},
   "outputs": [],
   "source": [
    "# Dataframe\n",
    "df_mun = pd.read_csv(\n",
    "    'https://raw.githubusercontent.com/michelmetran/sp/main/data/tabs/tab_municipio_nome.csv',\n",
    "    usecols=['id_municipio', 'municipio_nome']\n",
    ")\n",
    "\n",
    "# Results\n",
    "display(df_mun.head(3))"
   ]
  },
  {
   "cell_type": "markdown",
   "id": "ed57eb6b-48a3-401c-8712-71f4905d39eb",
   "metadata": {},
   "source": [
    "<br>\n",
    "\n",
    "## IDs vinculando Municípios com Áreas Regionais"
   ]
  },
  {
   "cell_type": "code",
   "execution_count": null,
   "id": "392cd81c-90d5-43f6-8b6e-77b4dd9bc3be",
   "metadata": {},
   "outputs": [],
   "source": [
    "# Dataframe\n",
    "df = pd.read_csv(\n",
    "    os.path.join('data', 'tabs', 'input', 'tab_ids_municipio.csv'),\n",
    "    usecols=['id_municipio', 'id_ar'],\n",
    ")\n",
    "display(df.head(3))\n",
    "\n",
    "# Merge Municípios\n",
    "df = pd.merge(\n",
    "    df_mun,\n",
    "    df,    \n",
    "    how='left',\n",
    "    left_on='id_municipio',\n",
    "    right_on='id_municipio',\n",
    ")\n",
    "\n",
    "# Results\n",
    "display(df.head(3))"
   ]
  },
  {
   "cell_type": "markdown",
   "id": "fba9b394-bd39-4dcc-8fa6-6e137397a2eb",
   "metadata": {},
   "source": [
    "<br>\n",
    "\n",
    "## Município Áreas Regionais"
   ]
  },
  {
   "cell_type": "code",
   "execution_count": null,
   "id": "02df792c-d40d-4de5-b6f2-8acfa8dab5ae",
   "metadata": {},
   "outputs": [],
   "source": [
    "# Dataframe GAEMAs\n",
    "df_ar = pd.read_csv(os.path.join('data', 'tabs', 'input', 'tab_arearegional.csv'))\n",
    "df_ar = df_ar.add_prefix('ar_')\n",
    "display(df_ar.head(3))\n",
    "\n",
    "# Merge GAEMAs\n",
    "df = pd.merge(\n",
    "    df,\n",
    "    df_ar,\n",
    "    how='left',\n",
    "    left_on='id_ar',\n",
    "    right_on='ar_id',\n",
    ")\n",
    "\n",
    "# Drop\n",
    "df.drop(['ar_id'], axis=1, inplace=True, errors='ignore')\n",
    "\n",
    "# Save\n",
    "df.to_csv(\n",
    "    os.path.join('data', 'tabs', 'output', 'tab_municipio_ar.csv'),\n",
    "    index=False,\n",
    ")\n",
    "\n",
    "# Results\n",
    "display(df.head(3))"
   ]
  },
  {
   "cell_type": "code",
   "execution_count": null,
   "id": "551aa399-6be1-421e-9c77-85342c974ac7",
   "metadata": {},
   "outputs": [],
   "source": []
  }
 ],
 "metadata": {
  "kernelspec": {
   "display_name": "Python [conda env:pablocarreira-py38] *",
   "language": "python",
   "name": "conda-env-pablocarreira-py38-py"
  },
  "language_info": {
   "codemirror_mode": {
    "name": "ipython",
    "version": 3
   },
   "file_extension": ".py",
   "mimetype": "text/x-python",
   "name": "python",
   "nbconvert_exporter": "python",
   "pygments_lexer": "ipython3",
   "version": "3.8.10"
  },
  "toc-autonumbering": true
 },
 "nbformat": 4,
 "nbformat_minor": 5
}
