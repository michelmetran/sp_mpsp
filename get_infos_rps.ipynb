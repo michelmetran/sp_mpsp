{
 "cells": [
  {
   "cell_type": "markdown",
   "id": "f88c5a35",
   "metadata": {},
   "source": [
    "<br>\n",
    "\n",
    "# Redes Protetivas"
   ]
  },
  {
   "cell_type": "code",
   "execution_count": null,
   "id": "ca61e8b0",
   "metadata": {},
   "outputs": [],
   "source": [
    "import os\n",
    "import re\n",
    "import time\n",
    "import random\n",
    "import tabula\n",
    "import requests\n",
    "import numpy as np\n",
    "import pandas as pd\n",
    "import geopandas as gpd\n",
    "from bs4 import BeautifulSoup"
   ]
  },
  {
   "cell_type": "markdown",
   "id": "2fa5bb85",
   "metadata": {},
   "source": [
    "<br>\n",
    "\n",
    "# Relatório"
   ]
  },
  {
   "cell_type": "markdown",
   "id": "c0e1ef29",
   "metadata": {},
   "source": [
    "<br>\n",
    "\n",
    "## Nomes dos Municípios\n",
    "\n",
    "Lê o arquivo csv com o nome dos municípios"
   ]
  },
  {
   "cell_type": "code",
   "execution_count": null,
   "id": "dae6b922",
   "metadata": {},
   "outputs": [],
   "source": [
    "# Dataframe\n",
    "df_mun = pd.read_csv(\n",
    "    'https://raw.githubusercontent.com/michelmetran/sp/main/data/tabs/tab_municipio_nome.csv',\n",
    "    usecols=['id_municipio', 'municipio_nome']\n",
    ")\n",
    "df_mun.head(3)"
   ]
  },
  {
   "cell_type": "markdown",
   "id": "24c5106b",
   "metadata": {},
   "source": [
    "<br>\n",
    "\n",
    "## IDs vinculando Municípios com Redes Protetivas"
   ]
  },
  {
   "cell_type": "code",
   "execution_count": null,
   "id": "4dcbc73f",
   "metadata": {},
   "outputs": [],
   "source": [
    "# Dataframe\n",
    "df = pd.read_csv(\n",
    "    os.path.join('data', 'tabs', 'input', 'tab_ids_municipio.csv'),\n",
    "    usecols=['id_municipio', 'id_rp'],\n",
    ")\n",
    "display(df.head(3))\n",
    "\n",
    "# Merge Municípios\n",
    "df = pd.merge(\n",
    "    df_mun,\n",
    "    df,    \n",
    "    how='left',\n",
    "    left_on='id_municipio',\n",
    "    right_on='id_municipio',\n",
    ")\n",
    "\n",
    "# Results\n",
    "display(df.head(3))"
   ]
  },
  {
   "cell_type": "markdown",
   "id": "97b58b3a",
   "metadata": {},
   "source": [
    "<br>\n",
    "\n",
    "## Município Rede Protetiva"
   ]
  },
  {
   "cell_type": "code",
   "execution_count": null,
   "id": "216166f3",
   "metadata": {},
   "outputs": [],
   "source": [
    "# Dataframe Rede Protetiva\n",
    "df_rp = pd.read_csv(os.path.join('data', 'tabs', 'input', 'tab_redeprotetiva.csv'))\n",
    "df_rp = df_rp.add_prefix('rp_')\n",
    "display(df_rp.head(3))\n",
    "\n",
    "# Merge Rede Protetiva\n",
    "df = pd.merge(\n",
    "    df,\n",
    "    df_rp,\n",
    "    how='left',\n",
    "    left_on='id_rp',\n",
    "    right_on='rp_id',\n",
    ")\n",
    "\n",
    "# Drop\n",
    "df.dropna(subset=['rp_id'], inplace=True)\n",
    "df.drop(['rp_id'], axis=1, inplace=True, errors='ignore')\n",
    "\n",
    "# Save\n",
    "df.to_csv(\n",
    "    os.path.join('data', 'tabs', 'output', 'tab_municipio_rp.csv'),\n",
    "    index=False,\n",
    ")\n",
    "\n",
    "# Results\n",
    "display(df.head(3))"
   ]
  },
  {
   "cell_type": "code",
   "execution_count": null,
   "id": "18863f9d-f55d-405e-8d3c-cc6129ca6c35",
   "metadata": {},
   "outputs": [],
   "source": []
  }
 ],
 "metadata": {
  "kernelspec": {
   "display_name": "Python [conda env:pablocarreira-py38] *",
   "language": "python",
   "name": "conda-env-pablocarreira-py38-py"
  },
  "language_info": {
   "codemirror_mode": {
    "name": "ipython",
    "version": 3
   },
   "file_extension": ".py",
   "mimetype": "text/x-python",
   "name": "python",
   "nbconvert_exporter": "python",
   "pygments_lexer": "ipython3",
   "version": "3.8.10"
  },
  "toc-autonumbering": true
 },
 "nbformat": 4,
 "nbformat_minor": 5
}
