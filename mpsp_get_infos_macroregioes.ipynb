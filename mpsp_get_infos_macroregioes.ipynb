{
 "cells": [
  {
   "cell_type": "markdown",
   "id": "df116fac-cf7a-49ab-bd38-f464e0bf7445",
   "metadata": {},
   "source": [
    "# Macroregiões\n",
    "\n",
    "Conforme pode ser observado pela notíca sobre o concurso para os técnicos, as Macroregiões estão correlacionadas com as Áreas Regionais, da seguinte forma:\n",
    "\n",
    "- **Macrorregião I**: Áreas Regionais da Capital, da Grande São Paulo I, II e III, de Santos e do Vale do Ribeira\n",
    "- **Macrorregião II**: Áreas Regionais de Campinas e de Taubaté\n",
    "- **Macrorregião III**: Áreas Regionais de Piracicaba e de Sorocaba\n",
    "- **Macrorregião IV**: Áreas Regionais de Araçatuba, de Bauru e de Presidente Prudente\n",
    "- **Macrorregião V**: Áreas Regionais de Franca, de Ribeirão Preto e de São José do Rio Preto\n",
    "\n",
    "<br>\n",
    "\n",
    "**Referência**\n",
    "\n",
    "- http://www.mpsp.mp.br/portal/page/portal/noticias/noticia?id_noticia=19968257&id_grupo=118"
   ]
  }
 ],
 "metadata": {
  "kernelspec": {
   "display_name": "Python [conda env:pablocarreira-py38] *",
   "language": "python",
   "name": "conda-env-pablocarreira-py38-py"
  },
  "language_info": {
   "codemirror_mode": {
    "name": "ipython",
    "version": 3
   },
   "file_extension": ".py",
   "mimetype": "text/x-python",
   "name": "python",
   "nbconvert_exporter": "python",
   "pygments_lexer": "ipython3",
   "version": "3.8.10"
  }
 },
 "nbformat": 4,
 "nbformat_minor": 5
}
