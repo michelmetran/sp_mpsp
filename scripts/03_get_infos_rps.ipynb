{
 "cells": [
  {
   "attachments": {},
   "cell_type": "markdown",
   "id": "f88c5a35",
   "metadata": {},
   "source": [
    "<br>\n",
    "\n",
    "# Redes Protetivas\n"
   ]
  },
  {
   "cell_type": "code",
   "execution_count": null,
   "id": "ca61e8b0",
   "metadata": {},
   "outputs": [],
   "source": [
    "import pandas as pd\n",
    "from open_geodata import geo\n",
    "\n",
    "from sp_mpsp_divadmin.paths import input_path_tab, output_path_tabs"
   ]
  },
  {
   "attachments": {},
   "cell_type": "markdown",
   "id": "c0e1ef29",
   "metadata": {},
   "source": [
    "<br>\n",
    "\n",
    "## Nomes dos Municípios\n",
    "\n",
    "Lê o arquivo csv com o nome dos municípios\n"
   ]
  },
  {
   "cell_type": "code",
   "execution_count": null,
   "id": "dae6b922",
   "metadata": {},
   "outputs": [],
   "source": [
    "df_mun = geo.load_dataset('tab.sp.tab_municipio_nome')\n",
    "\n",
    "df_mun.info()\n",
    "df_mun.head()"
   ]
  },
  {
   "attachments": {},
   "cell_type": "markdown",
   "id": "24c5106b",
   "metadata": {},
   "source": [
    "<br>\n",
    "\n",
    "## IDs vinculando Municípios com Redes Protetivas\n"
   ]
  },
  {
   "cell_type": "code",
   "execution_count": null,
   "id": "d3590601-5ec1-4a6a-9447-ba6160ef3d42",
   "metadata": {},
   "outputs": [],
   "source": [
    "# Dataframe\n",
    "df = pd.read_csv(\n",
    "    input_path_tab / 'tab_ids_municipio.csv',\n",
    "    usecols=['id_municipio', 'id_rp'],\n",
    ")\n",
    "# Results\n",
    "df.info()\n",
    "df.head()"
   ]
  },
  {
   "cell_type": "code",
   "execution_count": null,
   "id": "4dcbc73f",
   "metadata": {},
   "outputs": [],
   "source": [
    "# Merge Municípios\n",
    "df = pd.merge(\n",
    "    df_mun,\n",
    "    df,\n",
    "    how='left',\n",
    "    left_on='id_municipio',\n",
    "    right_on='id_municipio',\n",
    ")\n",
    "\n",
    "# Results\n",
    "df.info()\n",
    "df.head()"
   ]
  },
  {
   "attachments": {},
   "cell_type": "markdown",
   "id": "97b58b3a",
   "metadata": {},
   "source": [
    "<br>\n",
    "\n",
    "## Município Rede Protetiva\n"
   ]
  },
  {
   "cell_type": "code",
   "execution_count": null,
   "id": "0af4120f-300c-4c43-be2a-34ce4e8d60f1",
   "metadata": {},
   "outputs": [],
   "source": [
    "# Dataframe Rede Protetiva\n",
    "df_rp = pd.read_csv(input_path_tab / 'tab_redeprotetiva.csv')\n",
    "df_rp = df_rp.add_prefix('rp_')\n",
    "\n",
    "# Results\n",
    "df_rp.info()\n",
    "df_rp.head()"
   ]
  },
  {
   "cell_type": "code",
   "execution_count": null,
   "id": "216166f3",
   "metadata": {},
   "outputs": [],
   "source": [
    "# Merge Rede Protetiva\n",
    "df = pd.merge(\n",
    "    df,\n",
    "    df_rp,\n",
    "    how='left',\n",
    "    left_on='id_rp',\n",
    "    right_on='rp_id',\n",
    ")\n",
    "\n",
    "# Drop\n",
    "df.dropna(subset=['rp_id'], inplace=True)\n",
    "df.drop(['rp_id'], axis=1, inplace=True, errors='ignore')\n",
    "\n",
    "# Save\n",
    "df.to_csv(\n",
    "    output_path_tabs / 'tab_municipio_rp.csv',\n",
    "    index=False,\n",
    ")\n",
    "\n",
    "# Results\n",
    "df.info()\n",
    "df.head()"
   ]
  },
  {
   "cell_type": "code",
   "execution_count": null,
   "id": "5bd59c7c",
   "metadata": {},
   "outputs": [],
   "source": []
  }
 ],
 "metadata": {
  "kernelspec": {
   "display_name": "pablocarreira-lastest",
   "language": "python",
   "name": "python3"
  },
  "language_info": {
   "codemirror_mode": {
    "name": "ipython",
    "version": 3
   },
   "file_extension": ".py",
   "mimetype": "text/x-python",
   "name": "python",
   "nbconvert_exporter": "python",
   "pygments_lexer": "ipython3",
   "version": "3.10.11"
  },
  "toc-autonumbering": true,
  "vscode": {
   "interpreter": {
    "hash": "3eff2e4eec0fbea9d660dbbf3c9c38e7f3540f855f42d9d14e44150e78f59c2a"
   }
  }
 },
 "nbformat": 4,
 "nbformat_minor": 5
}
