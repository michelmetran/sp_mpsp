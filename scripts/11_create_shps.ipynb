{
 "cells": [
  {
   "cell_type": "markdown",
   "id": "8b9108a4-5b3a-4983-9ae1-371acd4df66a",
   "metadata": {},
   "source": [
    "<br>\n",
    "\n",
    "# Create _geojson_\n"
   ]
  },
  {
   "cell_type": "code",
   "execution_count": null,
   "id": "b27f8829-186f-47ed-83d1-11f40bd84a13",
   "metadata": {},
   "outputs": [],
   "source": [
    "import geopandas as gpd\n",
    "import pandas as pd\n",
    "from open_geodata import geo\n",
    "from tqdm.notebook import tqdm, trange\n",
    "\n",
    "from sp_mpsp_divadmin.paths import (\n",
    "    output_path_geo,\n",
    "    output_path_gpkg,\n",
    "    output_path_tabs,\n",
    ")"
   ]
  },
  {
   "cell_type": "code",
   "execution_count": null,
   "id": "37ad9d7d",
   "metadata": {},
   "outputs": [],
   "source": [
    "gdf_sp = geo.load_dataset('geo.sp.sp_250k_wgs84')\n",
    "gdf_sp.drop(['municipio_nome'], axis=1, inplace=True)\n",
    "gdf_sp.head()"
   ]
  },
  {
   "cell_type": "code",
   "execution_count": null,
   "id": "852706fd",
   "metadata": {},
   "outputs": [],
   "source": [
    "df_mun = geo.load_dataset('tab.sp.tab_municipio_nome')\n",
    "\n",
    "df_mun.info()\n",
    "df_mun.head()"
   ]
  },
  {
   "cell_type": "code",
   "execution_count": null,
   "id": "a93ec408",
   "metadata": {},
   "outputs": [],
   "source": [
    "gdf_sp = gdf_sp.merge(\n",
    "    df_mun, how='left', left_on='id_municipio', right_on='id_municipio'\n",
    ")\n",
    "gdf_sp.head(2)"
   ]
  },
  {
   "cell_type": "markdown",
   "id": "32fb50cd-d422-4371-a71e-b7789489cf62",
   "metadata": {},
   "source": [
    "<br>\n",
    "\n",
    "## GAEMA\n"
   ]
  },
  {
   "cell_type": "code",
   "execution_count": null,
   "id": "4136f653-8872-4716-b4d3-53dfd3fa2949",
   "metadata": {},
   "outputs": [],
   "source": [
    "# Lê o arquivo csv com o nome dos municípios\n",
    "df = pd.read_csv(\n",
    "    output_path_tabs / 'tab_municipio_gaema.csv',\n",
    ")\n",
    "\n",
    "# Drop Column\n",
    "df = df.drop(['municipio_nome'], axis=1)\n",
    "\n",
    "# Results\n",
    "df.info()\n",
    "df.head(2)"
   ]
  },
  {
   "cell_type": "code",
   "execution_count": null,
   "id": "c4f2aac0-a95e-42c5-9a63-9e27df9bdfb3",
   "metadata": {},
   "outputs": [],
   "source": [
    "# Merge\n",
    "gdf_gaema = gdf_sp.merge(\n",
    "    df,\n",
    "    on='id_municipio',\n",
    "    how='right',\n",
    ")\n",
    "\n",
    "# Results\n",
    "gdf_gaema.info()\n",
    "gdf_gaema.head(2)"
   ]
  },
  {
   "cell_type": "code",
   "execution_count": null,
   "id": "84e2e0db-0b17-4ed9-98e5-e5d3e34137de",
   "metadata": {},
   "outputs": [],
   "source": [
    "# Save geojson\n",
    "gdf_gaema.to_file(\n",
    "    output_path_gpkg / 'sp_mpsp_gaema.gpkg',\n",
    "    layer='sp_mpsp_gaema',\n",
    "    driver='GPKG',\n",
    ")\n",
    "\n",
    "gdf_gaema.to_file(\n",
    "    output_path_gpkg / 'sp_mpsp.gpkg',\n",
    "    layer='gaema',\n",
    "    driver='GPKG',\n",
    ")\n",
    "\n",
    "# Results\n",
    "gdf_gaema.head()"
   ]
  },
  {
   "cell_type": "markdown",
   "id": "b6f03fe4-db2b-4c49-9136-2ff9088e89db",
   "metadata": {},
   "source": [
    "<br>\n",
    "\n",
    "## Rede Protetiva\n"
   ]
  },
  {
   "cell_type": "code",
   "execution_count": null,
   "id": "133e5f88",
   "metadata": {},
   "outputs": [],
   "source": [
    "# Lê o arquivo csv com o nome dos municípios\n",
    "df = pd.read_csv(\n",
    "    output_path_tabs / 'tab_municipio_rp.csv',\n",
    ")\n",
    "\n",
    "# Drop Column\n",
    "df = df.drop(['municipio_nome'], axis=1, errors='ignore')\n",
    "\n",
    "# Results\n",
    "df.info()\n",
    "df.head(2)"
   ]
  },
  {
   "cell_type": "code",
   "execution_count": null,
   "id": "beb10aa1-4e7d-4c76-b917-fda2f7a4e820",
   "metadata": {},
   "outputs": [],
   "source": [
    "# Merge\n",
    "gdf_rp = gdf_sp.merge(\n",
    "    df,\n",
    "    on='id_municipio',\n",
    "    how='right',\n",
    ")\n",
    "\n",
    "gdf_rp.head(2)"
   ]
  },
  {
   "cell_type": "code",
   "execution_count": null,
   "id": "cf779f93-df5b-4548-9749-ff8384690eaa",
   "metadata": {},
   "outputs": [],
   "source": [
    "# Save geojson\n",
    "gdf_rp.to_file(\n",
    "    output_path_gpkg / 'sp_mpsp_rp.gpkg',\n",
    "    layer='sp_mpsp_rp',\n",
    "    driver='GPKG',\n",
    ")\n",
    "\n",
    "gdf_rp.to_file(\n",
    "    output_path_gpkg / 'sp_mpsp.gpkg',\n",
    "    layer='rede_protetiva',\n",
    "    driver='GPKG',\n",
    ")\n",
    "\n",
    "# Results\n",
    "gdf_rp.head(2)"
   ]
  },
  {
   "cell_type": "markdown",
   "id": "e16f517f-2cba-45c1-bc45-186badf04e2e",
   "metadata": {},
   "source": [
    "<br>\n",
    "\n",
    "## Área Regional\n"
   ]
  },
  {
   "cell_type": "code",
   "execution_count": null,
   "id": "1aec48c1",
   "metadata": {},
   "outputs": [],
   "source": [
    "# Lê o arquivo csv com o nome dos municípios\n",
    "df = pd.read_csv(\n",
    "    output_path_tabs / 'tab_municipio_ar.csv',\n",
    ")\n",
    "\n",
    "# Drop Column\n",
    "df = df.drop(['municipio_nome'], axis=1, errors='ignore')\n",
    "\n",
    "# Results\n",
    "df.info()\n",
    "df.head(2)"
   ]
  },
  {
   "cell_type": "code",
   "execution_count": null,
   "id": "95087236-63f4-4848-8589-aaecccbde493",
   "metadata": {},
   "outputs": [],
   "source": [
    "# Merge\n",
    "gdf_ar = gdf_sp.merge(\n",
    "    df,\n",
    "    on='id_municipio',\n",
    "    how='left',\n",
    ")"
   ]
  },
  {
   "cell_type": "code",
   "execution_count": null,
   "id": "f4f16942-c2cd-4800-9180-7908d28371aa",
   "metadata": {},
   "outputs": [],
   "source": [
    "# Save geojson\n",
    "gdf_ar.to_file(\n",
    "    output_path_gpkg / 'sp_mpsp_ar.gpkg',\n",
    "    layer='sp_mpsp_ar',\n",
    "    driver='GPKG',\n",
    ")\n",
    "\n",
    "gdf_ar.to_file(\n",
    "    output_path_gpkg / 'sp_mpsp.gpkg',\n",
    "    layer='area_regional',\n",
    "    driver='GPKG',\n",
    ")\n",
    "\n",
    "# Results\n",
    "gdf_ar.info()\n",
    "gdf_ar.head(2)"
   ]
  },
  {
   "attachments": {},
   "cell_type": "markdown",
   "id": "e4383aea-c92a-4c1c-be09-a92760c3435a",
   "metadata": {},
   "source": [
    "<br>\n",
    "\n",
    "## Macroregiões\n"
   ]
  },
  {
   "cell_type": "code",
   "execution_count": null,
   "id": "290dc934-b2c1-4435-aeaa-432fe5fd3e95",
   "metadata": {},
   "outputs": [],
   "source": [
    "# Lê o arquivo csv com o nome dos municípios\n",
    "df = pd.read_csv(\n",
    "    output_path_tabs / 'tab_municipio_macroregioes.csv',\n",
    ")\n",
    "# Drop Column\n",
    "df = df.drop(['municipio_nome'], axis=1, errors='ignore')\n",
    "\n",
    "# Results\n",
    "df.info()\n",
    "df.head(2)"
   ]
  },
  {
   "cell_type": "code",
   "execution_count": null,
   "id": "cf562389",
   "metadata": {},
   "outputs": [],
   "source": [
    "# Merge\n",
    "gdf_macroregioes = gdf_sp.merge(\n",
    "    df,\n",
    "    on='id_municipio',\n",
    "    how='left',\n",
    ")"
   ]
  },
  {
   "cell_type": "code",
   "execution_count": null,
   "id": "dd75888e-f51f-4221-b011-75136165087b",
   "metadata": {},
   "outputs": [],
   "source": [
    "# Save geojson\n",
    "gdf_macroregioes.to_file(\n",
    "    output_path_gpkg / 'sp_mpsp_macroregioes.gpkg',\n",
    "    layer='sp_mpsp_macroregioes',\n",
    "    driver='GPKG',\n",
    ")\n",
    "\n",
    "gdf_macroregioes.to_file(\n",
    "    output_path_gpkg / 'sp_mpsp.gpkg',\n",
    "    layer='macroregioes',\n",
    "    driver='GPKG',\n",
    ")\n",
    "\n",
    "# Results\n",
    "gdf_macroregioes.info()\n",
    "gdf_macroregioes.head(2)"
   ]
  },
  {
   "attachments": {},
   "cell_type": "markdown",
   "id": "978d684b",
   "metadata": {},
   "source": [
    "<br>\n",
    "\n",
    "## PJ Regional"
   ]
  },
  {
   "cell_type": "code",
   "execution_count": null,
   "id": "40a5f8ff-316f-4b43-a973-83472dd1e22c",
   "metadata": {},
   "outputs": [],
   "source": [
    "# Lê o arquivo csv com o nome dos municípios\n",
    "df = pd.read_csv(\n",
    "    output_path_tabs / 'tab_municipio_pjreg.csv',\n",
    ")\n",
    "# Drop Column\n",
    "df = df.drop(['municipio_nome'], axis=1, errors='ignore')\n",
    "\n",
    "# Results\n",
    "df.info()\n",
    "df.head(2)"
   ]
  },
  {
   "cell_type": "code",
   "execution_count": null,
   "id": "9c5bc742",
   "metadata": {},
   "outputs": [],
   "source": [
    "# Merge\n",
    "gdf_pjreg = gdf_sp.merge(\n",
    "    df,\n",
    "    on='id_municipio',\n",
    "    how='left',\n",
    ")"
   ]
  },
  {
   "cell_type": "code",
   "execution_count": null,
   "id": "8b812b9c",
   "metadata": {},
   "outputs": [],
   "source": [
    "# Save geojson\n",
    "gdf_pjreg.to_file(\n",
    "    output_path_gpkg / 'sp_mpsp_pjreg.gpkg',\n",
    "    layer='sp_mpsp_pjreg',\n",
    "    driver='GPKG',\n",
    ")\n",
    "\n",
    "gdf_pjreg.to_file(\n",
    "    output_path_gpkg / 'sp_mpsp.gpkg',\n",
    "    layer='pjreg',\n",
    "    driver='GPKG',\n",
    ")\n",
    "\n",
    "# Results\n",
    "gdf_pjreg.info()\n",
    "gdf_pjreg.head(2)"
   ]
  },
  {
   "cell_type": "code",
   "execution_count": null,
   "id": "cbd2e851",
   "metadata": {},
   "outputs": [],
   "source": []
  }
 ],
 "metadata": {
  "kernelspec": {
   "display_name": "pablocarreira-lastest",
   "language": "python",
   "name": "python3"
  },
  "language_info": {
   "codemirror_mode": {
    "name": "ipython",
    "version": 3
   },
   "file_extension": ".py",
   "mimetype": "text/x-python",
   "name": "python",
   "nbconvert_exporter": "python",
   "pygments_lexer": "ipython3",
   "version": "3.10.11"
  },
  "toc-autonumbering": true,
  "vscode": {
   "interpreter": {
    "hash": "3eff2e4eec0fbea9d660dbbf3c9c38e7f3540f855f42d9d14e44150e78f59c2a"
   }
  }
 },
 "nbformat": 4,
 "nbformat_minor": 5
}
