{
 "cells": [
  {
   "cell_type": "code",
   "execution_count": null,
   "metadata": {},
   "outputs": [],
   "source": [
    "import pandas as pd\n",
    "from open_geodata import geo\n",
    "\n",
    "from sp_mpsp_divadmin.paths import input_path_tab, output_path_tabs"
   ]
  },
  {
   "cell_type": "code",
   "execution_count": null,
   "metadata": {},
   "outputs": [],
   "source": [
    "df_mun = geo.load_dataset('tab.sp.tab_municipio_nome')\n",
    "\n",
    "df_mun.info()\n",
    "df_mun.head()"
   ]
  },
  {
   "cell_type": "code",
   "execution_count": null,
   "metadata": {},
   "outputs": [],
   "source": [
    "# Dataframe\n",
    "df_ids = pd.read_csv(\n",
    "    input_path_tab / 'tab_ids_municipio.csv',\n",
    "    # usecols=['id_municipio', 'id_gaema'],\n",
    "    usecols=['id_municipio', 'id_gaema', 'id_rp'],\n",
    ")\n",
    "\n",
    "# Results\n",
    "df_ids.info()\n",
    "df_ids.head()"
   ]
  },
  {
   "cell_type": "code",
   "execution_count": null,
   "metadata": {},
   "outputs": [],
   "source": [
    "# Merge Municípios\n",
    "df = pd.merge(\n",
    "    df_mun,\n",
    "    df_ids,\n",
    "    how='left',\n",
    "    left_on='id_municipio',\n",
    "    right_on='id_municipio',\n",
    ")\n",
    "\n",
    "# Results\n",
    "df.info()\n",
    "df.head()"
   ]
  },
  {
   "attachments": {},
   "cell_type": "markdown",
   "metadata": {},
   "source": [
    "<br>\n",
    "\n",
    "## GAEMA\n"
   ]
  },
  {
   "cell_type": "code",
   "execution_count": null,
   "metadata": {},
   "outputs": [],
   "source": [
    "mask = (~df['id_gaema'].isnull()) & (df['id_rp'].isnull())\n",
    "df[mask]"
   ]
  },
  {
   "cell_type": "code",
   "execution_count": null,
   "metadata": {},
   "outputs": [],
   "source": [
    "# Dataframe GAEMAs\n",
    "df_gaema = pd.read_csv(\n",
    "    input_path_tab / 'tab_gaema.csv',\n",
    "    usecols=['id', 'nome'],\n",
    ")\n",
    "df_gaema = df_gaema.add_prefix('gaema_')\n",
    "\n",
    "# df_gaema['gaema_nome'] = df_gaema['gaema_nome'].add_prefix('')\n",
    "df_gaema['gaema_nome'].replace('Núcleo', '', regex=True, inplace=True)\n",
    "df_gaema['gaema_nome'] = df_gaema['gaema_nome'].apply(lambda x: f'GAEMA - {x}')\n",
    "df_gaema['unidade'] = df_gaema['gaema_nome']\n",
    "\n",
    "# Results\n",
    "df_gaema.info()\n",
    "df_gaema.head()"
   ]
  },
  {
   "cell_type": "code",
   "execution_count": null,
   "metadata": {},
   "outputs": [],
   "source": [
    "# Merge GAEMAs\n",
    "df_gaema_merged = pd.merge(\n",
    "    df[mask],\n",
    "    df_gaema,\n",
    "    how='left',\n",
    "    left_on='id_gaema',\n",
    "    right_on='gaema_id',\n",
    ")\n",
    "\n",
    "\n",
    "df_gaema_merged.info()\n",
    "df_gaema_merged.head()"
   ]
  },
  {
   "attachments": {},
   "cell_type": "markdown",
   "metadata": {},
   "source": [
    "<br>\n",
    "\n",
    "## Rede Protetiva\n"
   ]
  },
  {
   "cell_type": "code",
   "execution_count": null,
   "metadata": {},
   "outputs": [],
   "source": [
    "mask = (df['id_gaema'].isnull()) & (~df['id_rp'].isnull())\n",
    "df[mask]"
   ]
  },
  {
   "cell_type": "code",
   "execution_count": null,
   "metadata": {},
   "outputs": [],
   "source": [
    "# Dataframe Rede Protetiva\n",
    "df_rp = pd.read_csv(\n",
    "    input_path_tab / 'tab_redeprotetiva.csv',\n",
    "    usecols=['id', 'nome'],\n",
    ")\n",
    "df_rp = df_rp.add_prefix('rp_')\n",
    "\n",
    "# df_gaema['gaema_nome'] = df_gaema['gaema_nome'].add_prefix('')\n",
    "# df_rp['rp_nome'].replace('Núcleo', '', regex=True, inplace=True)\n",
    "df_rp['rp_nome'] = df_rp['rp_nome'].apply(lambda x: f'Rede Protetiva - {x}')\n",
    "df_rp['unidade'] = df_rp['rp_nome']\n",
    "\n",
    "# Results\n",
    "df_rp.info()\n",
    "df_rp.head()"
   ]
  },
  {
   "cell_type": "code",
   "execution_count": null,
   "metadata": {},
   "outputs": [],
   "source": [
    "# Merge GAEMAs\n",
    "df_rp_merged = pd.merge(\n",
    "    df[mask],\n",
    "    df_rp,\n",
    "    how='left',\n",
    "    left_on='id_rp',\n",
    "    right_on='rp_id',\n",
    ")\n",
    "\n",
    "df_rp_merged.info()\n",
    "df_rp_merged.head()"
   ]
  },
  {
   "cell_type": "code",
   "execution_count": null,
   "metadata": {},
   "outputs": [],
   "source": [
    "df_final = pd.concat([df_gaema_merged, df_rp_merged])\n",
    "df_final.drop(\n",
    "    ['id_gaema', 'id_rp', 'gaema_id', 'gaema_nome', 'rp_id', 'rp_nome'],\n",
    "    axis=1,\n",
    "    inplace=True,\n",
    "    errors='ignore',\n",
    ")\n",
    "\n",
    "df_final.info()\n",
    "df_final.head()"
   ]
  },
  {
   "cell_type": "code",
   "execution_count": null,
   "metadata": {},
   "outputs": [],
   "source": [
    "df_final['id_municipio_6d'] = df_final['id_municipio'].astype(str).str[:6]\n",
    "df_final"
   ]
  },
  {
   "cell_type": "code",
   "execution_count": null,
   "metadata": {},
   "outputs": [],
   "source": [
    "df_final.to_csv(\n",
    "    output_path_tabs / 'tab_gaemas_rps.csv',\n",
    "    index=False,\n",
    ")"
   ]
  },
  {
   "cell_type": "code",
   "execution_count": null,
   "metadata": {},
   "outputs": [],
   "source": []
  }
 ],
 "metadata": {
  "kernelspec": {
   "display_name": "pablocarreira-lastest",
   "language": "python",
   "name": "python3"
  },
  "language_info": {
   "codemirror_mode": {
    "name": "ipython",
    "version": 3
   },
   "file_extension": ".py",
   "mimetype": "text/x-python",
   "name": "python",
   "nbconvert_exporter": "python",
   "pygments_lexer": "ipython3",
   "version": "3.10.13"
  },
  "vscode": {
   "interpreter": {
    "hash": "3eff2e4eec0fbea9d660dbbf3c9c38e7f3540f855f42d9d14e44150e78f59c2a"
   }
  }
 },
 "nbformat": 4,
 "nbformat_minor": 2
}
