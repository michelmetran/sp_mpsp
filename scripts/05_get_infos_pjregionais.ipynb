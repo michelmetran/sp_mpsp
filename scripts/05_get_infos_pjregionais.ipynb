{
 "cells": [
  {
   "attachments": {},
   "cell_type": "markdown",
   "id": "48dbaf7b",
   "metadata": {},
   "source": [
    "<br>\n",
    "\n",
    "# Áreas Regionais\n"
   ]
  },
  {
   "cell_type": "code",
   "execution_count": null,
   "id": "e9dff2d7",
   "metadata": {},
   "outputs": [],
   "source": [
    "import pandas as pd\n",
    "from open_geodata import geo\n",
    "\n",
    "from sp_mpsp_divadmin.paths import input_path_tab, output_path_tabs"
   ]
  },
  {
   "attachments": {},
   "cell_type": "markdown",
   "id": "366392ca-9be6-4409-894c-ba566a6e19ee",
   "metadata": {},
   "source": [
    "<br>\n",
    "\n",
    "## Nomes dos Municípios\n",
    "\n",
    "Lê o arquivo csv com o nome dos municípios\n"
   ]
  },
  {
   "cell_type": "code",
   "execution_count": null,
   "id": "17178a04-7b19-4967-b8e0-99d1513c1fe0",
   "metadata": {},
   "outputs": [],
   "source": [
    "df_mun = geo.load_dataset('tab.sp.tab_municipio_nome')\n",
    "\n",
    "df_mun.info()\n",
    "df_mun.head()"
   ]
  },
  {
   "attachments": {},
   "cell_type": "markdown",
   "id": "ed57eb6b-48a3-401c-8712-71f4905d39eb",
   "metadata": {},
   "source": [
    "<br>\n",
    "\n",
    "## IDs vinculando Municípios com Áreas Regionais\n"
   ]
  },
  {
   "cell_type": "code",
   "execution_count": null,
   "id": "3defe238",
   "metadata": {},
   "outputs": [],
   "source": [
    "# Dataframe\n",
    "df = pd.read_csv(\n",
    "    input_path_tab / 'tab_ids_municipio.csv',\n",
    "    usecols=['id_municipio', 'id_pjreg'],\n",
    ")\n",
    "\n",
    "# Results\n",
    "df.info()\n",
    "df.head()"
   ]
  },
  {
   "cell_type": "code",
   "execution_count": null,
   "id": "392cd81c-90d5-43f6-8b6e-77b4dd9bc3be",
   "metadata": {},
   "outputs": [],
   "source": [
    "# Merge Municípios\n",
    "df = pd.merge(\n",
    "    df_mun,\n",
    "    df,\n",
    "    how='left',\n",
    "    left_on='id_municipio',\n",
    "    right_on='id_municipio',\n",
    ")\n",
    "\n",
    "# Results\n",
    "df.info()\n",
    "df.head()"
   ]
  },
  {
   "attachments": {},
   "cell_type": "markdown",
   "id": "fba9b394-bd39-4dcc-8fa6-6e137397a2eb",
   "metadata": {},
   "source": [
    "<br>\n",
    "\n",
    "## Município Áreas Regionais\n"
   ]
  },
  {
   "cell_type": "code",
   "execution_count": null,
   "id": "b83d86a1",
   "metadata": {},
   "outputs": [],
   "source": [
    "# Dataframe GAEMAs\n",
    "df_ar = pd.read_csv(input_path_tab / 'tab_pjregional.csv')\n",
    "df_ar = df_ar.add_prefix('pjreg_')\n",
    "\n",
    "# Results\n",
    "df_ar.info()\n",
    "df_ar.head()"
   ]
  },
  {
   "cell_type": "code",
   "execution_count": null,
   "id": "02df792c-d40d-4de5-b6f2-8acfa8dab5ae",
   "metadata": {},
   "outputs": [],
   "source": [
    "# Merge GAEMAs\n",
    "df = pd.merge(\n",
    "    df,\n",
    "    df_ar,\n",
    "    how='left',\n",
    "    left_on='id_pjreg',\n",
    "    right_on='pjreg_id',\n",
    ")\n",
    "\n",
    "# Drop\n",
    "df.drop(['pjreg_id'], axis=1, inplace=True, errors='ignore')\n",
    "\n",
    "# Save\n",
    "df.to_csv(\n",
    "    output_path_tabs / 'tab_municipio_pjreg.csv',\n",
    "    index=False,\n",
    ")\n",
    "\n",
    "# Results\n",
    "df.info()\n",
    "df.head()"
   ]
  },
  {
   "cell_type": "code",
   "execution_count": null,
   "id": "96d2b152",
   "metadata": {},
   "outputs": [],
   "source": []
  }
 ],
 "metadata": {
  "kernelspec": {
   "display_name": "pablocarreira-lastest",
   "language": "python",
   "name": "python3"
  },
  "language_info": {
   "codemirror_mode": {
    "name": "ipython",
    "version": 3
   },
   "file_extension": ".py",
   "mimetype": "text/x-python",
   "name": "python",
   "nbconvert_exporter": "python",
   "pygments_lexer": "ipython3",
   "version": "3.10.13"
  },
  "toc-autonumbering": true,
  "vscode": {
   "interpreter": {
    "hash": "3eff2e4eec0fbea9d660dbbf3c9c38e7f3540f855f42d9d14e44150e78f59c2a"
   }
  }
 },
 "nbformat": 4,
 "nbformat_minor": 5
}
