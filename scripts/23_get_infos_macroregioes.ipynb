{
 "cells": [
  {
   "cell_type": "markdown",
   "id": "df116fac-cf7a-49ab-bd38-f464e0bf7445",
   "metadata": {},
   "source": [
    "<br>\n",
    "\n",
    "# Macroregiões"
   ]
  },
  {
   "cell_type": "code",
   "execution_count": null,
   "id": "0db26075-1d0c-4d5a-9bd5-0a4b532ed174",
   "metadata": {},
   "outputs": [],
   "source": [
    "import os\n",
    "import pandas as pd"
   ]
  },
  {
   "cell_type": "code",
   "execution_count": null,
   "id": "35835bcd",
   "metadata": {},
   "outputs": [],
   "source": [
    "from paths import *\n",
    "from functions import *"
   ]
  },
  {
   "cell_type": "markdown",
   "id": "da26c8de-604c-48a4-93ae-59fd517ed214",
   "metadata": {},
   "source": [
    "<br>\n",
    "\n",
    "## Read Data\n",
    "\n",
    "### Nomes dos Municípios\n",
    "\n",
    "Lê o arquivo csv com o nome dos municípios"
   ]
  },
  {
   "cell_type": "code",
   "execution_count": null,
   "id": "456ca440-0e70-4c8e-83e3-e650380d269f",
   "metadata": {},
   "outputs": [],
   "source": [
    "df_mun.info()\n",
    "df_mun.head()"
   ]
  },
  {
   "cell_type": "markdown",
   "id": "119b51ee-d815-4e77-aa47-5b9a30a1743d",
   "metadata": {},
   "source": [
    "<br>\n",
    "\n",
    "## IDs vinculando Municípios com Áreas Regionais"
   ]
  },
  {
   "cell_type": "code",
   "execution_count": null,
   "id": "8c469312",
   "metadata": {},
   "outputs": [],
   "source": [
    "# Dataframe\n",
    "df_ar = pd.read_csv(\n",
    "    os.path.join(input_path_tab, 'tab_ids_municipio.csv'),\n",
    "    usecols=['id_municipio', 'id_ar'],\n",
    ")\n",
    "\n",
    "# Results\n",
    "df_ar.info()\n",
    "df_ar.head()"
   ]
  },
  {
   "cell_type": "code",
   "execution_count": null,
   "id": "68e9c8b5-3ff9-4ba7-bee3-5a3273eb05bf",
   "metadata": {},
   "outputs": [],
   "source": [
    "# Dataframe\n",
    "df_ar_macro = pd.read_csv(\n",
    "    os.path.join(input_path_tab, 'tab_ids_macroregioes.csv'),\n",
    ")\n",
    "\n",
    "# Results\n",
    "df_ar_macro.info()\n",
    "df_ar_macro.head()"
   ]
  },
  {
   "cell_type": "code",
   "execution_count": null,
   "id": "6196733b-3e71-431d-a230-b2d338c00d78",
   "metadata": {},
   "outputs": [],
   "source": [
    "# Dataframe GAEMAs\n",
    "df_macro = pd.read_csv(os.path.join(input_path_tab, 'tab_macroregioes.csv'))\n",
    "df_macro = df_macro.add_prefix('macroregiao_')\n",
    "\n",
    "# Results\n",
    "df_macro.info()\n",
    "df_macro.head()"
   ]
  },
  {
   "cell_type": "markdown",
   "id": "9afc9c16-717a-4d3b-9592-ea979586808f",
   "metadata": {},
   "source": [
    "<br>\n",
    "\n",
    "## Município - AR"
   ]
  },
  {
   "cell_type": "code",
   "execution_count": null,
   "id": "78ede5b1-861c-4be1-8f10-80e048f9bfb9",
   "metadata": {},
   "outputs": [],
   "source": [
    "# Merge Municípios\n",
    "df = pd.merge(\n",
    "    df_ar,\n",
    "    df_mun,\n",
    "    how='left',\n",
    "    left_on='id_municipio',\n",
    "    right_on='id_municipio',\n",
    ")\n",
    "\n",
    "# Results\n",
    "df.info()\n",
    "df.head()"
   ]
  },
  {
   "cell_type": "markdown",
   "id": "141f9995-f73a-4463-959b-b3a47362c35e",
   "metadata": {},
   "source": [
    "<br>\n",
    "\n",
    "## IDs vinculando Áreas Regionais com Macroregiões"
   ]
  },
  {
   "cell_type": "code",
   "execution_count": null,
   "id": "dd63c388-903d-4b10-b15a-6560fe38fab7",
   "metadata": {},
   "outputs": [],
   "source": [
    "# Merge Municípios\n",
    "df = pd.merge(\n",
    "    df,\n",
    "    df_ar_macro,\n",
    "    how='left',\n",
    "    left_on='id_ar',\n",
    "    right_on='id_ar',\n",
    ")\n",
    "\n",
    "# Results\n",
    "df.info()\n",
    "df.head()"
   ]
  },
  {
   "cell_type": "markdown",
   "id": "5e87f58a-2880-44c1-a9cf-26cc3210106f",
   "metadata": {},
   "source": [
    "<br>\n",
    "\n",
    "## Município Macroregiões"
   ]
  },
  {
   "cell_type": "code",
   "execution_count": null,
   "id": "48ffe480-c044-4d79-a847-1c99f9aa8461",
   "metadata": {},
   "outputs": [],
   "source": [
    "# Merge GAEMAs\n",
    "df = pd.merge(\n",
    "    df,\n",
    "    df_macro,\n",
    "    how='left',\n",
    "    left_on='id_macroregiao',\n",
    "    right_on='macroregiao_id',\n",
    ")\n",
    "\n",
    "# Results\n",
    "df.info()\n",
    "df.head()"
   ]
  },
  {
   "cell_type": "code",
   "execution_count": null,
   "id": "6f6cdecd-372a-4618-b922-6306534d955c",
   "metadata": {},
   "outputs": [],
   "source": [
    "# Drop\n",
    "df.drop(['id_ar', 'macroregiao_id'], axis=1, inplace=True, errors='ignore')\n",
    "\n",
    "# Results\n",
    "df.info()\n",
    "df.head()"
   ]
  },
  {
   "cell_type": "code",
   "execution_count": null,
   "id": "8e5c1c53-2735-4907-8fb8-8ba5e656c848",
   "metadata": {},
   "outputs": [],
   "source": [
    "# Save\n",
    "df.to_csv(\n",
    "    os.path.join(output_path_tabs, 'tab_municipio_macroregioes.csv'),\n",
    "    index=False,\n",
    ")\n",
    "\n",
    "# Results\n",
    "df.info()\n",
    "df.head()"
   ]
  },
  {
   "cell_type": "code",
   "execution_count": null,
   "id": "6e957f6f-7abb-4386-a3e2-e56fd689ff0a",
   "metadata": {},
   "outputs": [],
   "source": []
  }
 ],
 "metadata": {
  "interpreter": {
   "hash": "2bdda54bf0f28693adab761d90c570fb0a7faa3609b365313c0b5d078440c060"
  },
  "kernelspec": {
   "display_name": "Python 3 (ipykernel)",
   "language": "python",
   "name": "python3"
  },
  "language_info": {
   "codemirror_mode": {
    "name": "ipython",
    "version": 3
   },
   "file_extension": ".py",
   "mimetype": "text/x-python",
   "name": "python",
   "nbconvert_exporter": "python",
   "pygments_lexer": "ipython3",
   "version": "3.9.12"
  }
 },
 "nbformat": 4,
 "nbformat_minor": 5
}
