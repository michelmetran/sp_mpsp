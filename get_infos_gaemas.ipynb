{
 "cells": [
  {
   "cell_type": "markdown",
   "id": "f88c5a35",
   "metadata": {},
   "source": [
    "<br>\n",
    "\n",
    "# GAEMAs"
   ]
  },
  {
   "cell_type": "code",
   "execution_count": null,
   "id": "ca61e8b0",
   "metadata": {},
   "outputs": [],
   "source": [
    "import os\n",
    "import re\n",
    "import time\n",
    "import random\n",
    "import tabula\n",
    "import requests\n",
    "import numpy as np\n",
    "import pandas as pd\n",
    "import geopandas as gpd\n",
    "from bs4 import BeautifulSoup"
   ]
  },
  {
   "cell_type": "markdown",
   "id": "2fa5bb85",
   "metadata": {},
   "source": [
    "<br>\n",
    "\n",
    "# Relatório"
   ]
  },
  {
   "cell_type": "markdown",
   "id": "c0e1ef29",
   "metadata": {},
   "source": [
    "<br>\n",
    "\n",
    "## Nomes dos Municípios\n",
    "\n",
    "Lê o arquivo csv com o nome dos municípios"
   ]
  },
  {
   "cell_type": "code",
   "execution_count": null,
   "id": "dae6b922",
   "metadata": {},
   "outputs": [],
   "source": [
    "# Dataframe\n",
    "df_mun = pd.read_csv(\n",
    "    'https://raw.githubusercontent.com/michelmetran/sp/main/data/tabs/tab_municipio_nome.csv',\n",
    "    usecols=['id_municipio', 'municipio_nome']\n",
    ")\n",
    "\n",
    "# Results\n",
    "display(df_mun.head(3))"
   ]
  },
  {
   "cell_type": "markdown",
   "id": "24c5106b",
   "metadata": {},
   "source": [
    "<br>\n",
    "\n",
    "## IDs vinculando Municípios com GAEMAs"
   ]
  },
  {
   "cell_type": "code",
   "execution_count": null,
   "id": "4dcbc73f",
   "metadata": {},
   "outputs": [],
   "source": [
    "# Dataframe\n",
    "df = pd.read_csv(\n",
    "    os.path.join('data', 'tabs', 'input', 'tab_ids_municipio.csv'),\n",
    "    usecols=['id_municipio', 'id_gaema'],\n",
    ")\n",
    "display(df.head(3))\n",
    "\n",
    "# Merge Municípios\n",
    "df = pd.merge(\n",
    "    df_mun,\n",
    "    df,    \n",
    "    how='left',\n",
    "    left_on='id_municipio',\n",
    "    right_on='id_municipio',\n",
    ")\n",
    "\n",
    "# Results\n",
    "display(df.head(3))"
   ]
  },
  {
   "cell_type": "markdown",
   "id": "7bb3bc99",
   "metadata": {},
   "source": [
    "<br>\n",
    "\n",
    "## Município GAEMAs"
   ]
  },
  {
   "cell_type": "code",
   "execution_count": null,
   "id": "03118c28",
   "metadata": {},
   "outputs": [],
   "source": [
    "# Dataframe GAEMAs\n",
    "df_gaema = pd.read_csv(os.path.join('data', 'tabs', 'input', 'tab_gaema.csv'))\n",
    "df_gaema = df_gaema.add_prefix('gaema_')\n",
    "display(df_gaema.head(3))\n",
    "\n",
    "# Merge GAEMAs\n",
    "df = pd.merge(\n",
    "    df,\n",
    "    df_gaema,\n",
    "    how='left',\n",
    "    left_on='id_gaema',\n",
    "    right_on='gaema_id',\n",
    ")\n",
    "\n",
    "# Drop\n",
    "df.dropna(subset=['gaema_id'], inplace=True)\n",
    "df.drop(['gaema_id'], axis=1, inplace=True, errors='ignore')\n",
    "\n",
    "# Save\n",
    "df.to_csv(\n",
    "    os.path.join('data', 'tabs', 'output', 'tab_municipio_gaema.csv'),\n",
    "    index=False,\n",
    ")\n",
    "\n",
    "# Results\n",
    "display(df.head(3))"
   ]
  },
  {
   "cell_type": "code",
   "execution_count": null,
   "id": "a1bdbe9c-82c7-4d99-9cf9-c0fea11d115d",
   "metadata": {},
   "outputs": [],
   "source": []
  }
 ],
 "metadata": {
  "kernelspec": {
   "display_name": "Python [conda env:pablocarreira-py38] *",
   "language": "python",
   "name": "conda-env-pablocarreira-py38-py"
  },
  "language_info": {
   "codemirror_mode": {
    "name": "ipython",
    "version": 3
   },
   "file_extension": ".py",
   "mimetype": "text/x-python",
   "name": "python",
   "nbconvert_exporter": "python",
   "pygments_lexer": "ipython3",
   "version": "3.8.10"
  },
  "toc-autonumbering": true
 },
 "nbformat": 4,
 "nbformat_minor": 5
}
